{
 "cells": [
  {
   "cell_type": "markdown",
   "metadata": {},
   "source": [
    "# Exercise 1: Basic Python 1\n",
    "Modified from exercises provided with Programming with Python for Social Science by Phillip Brooker and from Social Data Science 2019 by Andreas Bjerre-Nielson\n",
    "\n",
    "## 1.1 DATA TYPES\n",
    "**QUESTION 1.1.1**"
   ]
  },
  {
   "cell_type": "code",
   "execution_count": null,
   "metadata": {},
   "outputs": [],
   "source": [
    "#an integer is a \"whole number\" (i.e. one with no decimal point)\n",
    "my_integer = 14\n",
    "\n",
    "#a float is a numerical value with a decimal point\n",
    "my_float = 11.1\n",
    "\n",
    "#a string is text\n",
    "my_string = \"This is my string.\"\n"
   ]
  },
  {
   "cell_type": "markdown",
   "metadata": {},
   "source": [
    "What type of variables do you think the following five are? "
   ]
  },
  {
   "cell_type": "code",
   "execution_count": 1,
   "metadata": {},
   "outputs": [],
   "source": [
    "var1 = \"0.1\"\n",
    "\n",
    "var2 = 5 - 9\n",
    "\n",
    "var3 = 10 + 10.1\n",
    "\n",
    "var4 = \"10 + 10.1\"\n",
    "\n",
    "var5 = 10.1 - 0.1"
   ]
  },
  {
   "cell_type": "code",
   "execution_count": 2,
   "metadata": {},
   "outputs": [],
   "source": [
    "#Answer to Question 1.1.1\n",
    "#var1 = string\n",
    "#var2 = integer\n",
    "#var3 = float\n",
    "#var4 = string\n",
    "#var5 = float"
   ]
  },
  {
   "cell_type": "code",
   "execution_count": 7,
   "metadata": {},
   "outputs": [
    {
     "name": "stdout",
     "output_type": "stream",
     "text": [
      "<class 'str'>\n",
      "<class 'int'>\n",
      "<class 'float'>\n",
      "<class 'str'>\n",
      "<class 'float'>\n"
     ]
    }
   ],
   "source": [
    "print(type(var1))\n",
    "print(type(var2))\n",
    "print(type(var3))\n",
    "print(type(var4))\n",
    "print(type(var5))"
   ]
  },
  {
   "cell_type": "markdown",
   "metadata": {},
   "source": [
    "## 1.2 Basic Operations"
   ]
  },
  {
   "cell_type": "markdown",
   "metadata": {},
   "source": [
    "**Question 1.2.1**: Variables can be reassigned and overwritten."
   ]
  },
  {
   "cell_type": "code",
   "execution_count": 10,
   "metadata": {},
   "outputs": [],
   "source": [
    "original_var = 20\n",
    "new_var = original_var + 10\n",
    "\n",
    "original_var2 = 5\n",
    "original_var2 = original_var2 + 5"
   ]
  },
  {
   "cell_type": "markdown",
   "metadata": {},
   "source": [
    "Can you guess the values for new_var and original_var2?\n"
   ]
  },
  {
   "cell_type": "code",
   "execution_count": null,
   "metadata": {},
   "outputs": [],
   "source": [
    "#Answer to Question 1.2.1\n",
    "#new_var = 30\n",
    "#original_var2 = 10"
   ]
  },
  {
   "cell_type": "code",
   "execution_count": 13,
   "metadata": {},
   "outputs": [
    {
     "name": "stdout",
     "output_type": "stream",
     "text": [
      "30\n",
      "10\n"
     ]
    }
   ],
   "source": [
    "print(new_var)\n",
    "print(original_var2)"
   ]
  },
  {
   "cell_type": "markdown",
   "metadata": {},
   "source": [
    "**Question 1.2.2**: Can you guess what string1 will contain?"
   ]
  },
  {
   "cell_type": "code",
   "execution_count": 14,
   "metadata": {},
   "outputs": [],
   "source": [
    "string1 = \"This is the first part of the string.\"\n",
    "string1 = string1 + \" This is the second part of the string.\""
   ]
  },
  {
   "cell_type": "code",
   "execution_count": 15,
   "metadata": {},
   "outputs": [
    {
     "name": "stdout",
     "output_type": "stream",
     "text": [
      "This is the first part of the string. This is the second part of the string.\n"
     ]
    }
   ],
   "source": [
    "#Answer to Question 1.2.2\n",
    "#\"This is the first part of the string.\" \"This is the second part of the string.\"\n",
    "#byrja á að skilgreina variable sem \"this is the first part of the string\" í næsta lið \n",
    "#bæti ég við string1 með plúsnum.\n",
    "\n",
    "print(string1)"
   ]
  },
  {
   "cell_type": "markdown",
   "metadata": {},
   "source": [
    "**Question 1.2.3**: Try adding these two variables together, and explain what happens."
   ]
  },
  {
   "cell_type": "code",
   "execution_count": 16,
   "metadata": {},
   "outputs": [],
   "source": [
    "first_bit = 14\n",
    "second_bit = \"14\"\n"
   ]
  },
  {
   "cell_type": "code",
   "execution_count": 17,
   "metadata": {},
   "outputs": [
    {
     "ename": "TypeError",
     "evalue": "unsupported operand type(s) for +: 'int' and 'str'",
     "output_type": "error",
     "traceback": [
      "\u001b[0;31m---------------------------------------------------------------------------\u001b[0m",
      "\u001b[0;31mTypeError\u001b[0m                                 Traceback (most recent call last)",
      "\u001b[0;32m<ipython-input-17-e05a28d1e3d6>\u001b[0m in \u001b[0;36m<module>\u001b[0;34m\u001b[0m\n\u001b[1;32m      1\u001b[0m \u001b[0;31m# Answer to Question 1.2.3\u001b[0m\u001b[0;34m\u001b[0m\u001b[0;34m\u001b[0m\u001b[0;34m\u001b[0m\u001b[0m\n\u001b[0;32m----> 2\u001b[0;31m \u001b[0mfirst_bit\u001b[0m \u001b[0;34m+\u001b[0m \u001b[0msecond_bit\u001b[0m\u001b[0;34m\u001b[0m\u001b[0;34m\u001b[0m\u001b[0m\n\u001b[0m",
      "\u001b[0;31mTypeError\u001b[0m: unsupported operand type(s) for +: 'int' and 'str'"
     ]
    }
   ],
   "source": [
    "# Answer to Question 1.2.3\n",
    "first_bit + second_bit\n",
    "\n",
    "#TypeError because they are int and string, can not be added together. "
   ]
  },
  {
   "cell_type": "markdown",
   "metadata": {},
   "source": [
    "**Question 1.2.4**\n",
    "\n",
    "We can also convert variable types to different variable types, as follows:\n",
    "\n",
    "To 'stringify' something, we can use str(VARIABLE). Below, I'll declare a variable which is an integer, then I'll use str(VARIABLE) to write the 'stringified' version to a new variable."
   ]
  },
  {
   "cell_type": "code",
   "execution_count": 5,
   "metadata": {},
   "outputs": [
    {
     "name": "stdout",
     "output_type": "stream",
     "text": [
      "30\n",
      "30\n"
     ]
    }
   ],
   "source": [
    "my_integer_variable = 30\n",
    "my_stringified_variable = str(my_integer_variable)\n",
    "print(my_integer_variable)\n",
    "print(my_stringified_variable)"
   ]
  },
  {
   "cell_type": "markdown",
   "metadata": {},
   "source": [
    "To 'integerify' something, we can use int(VARIABLE). Below, I'll declare a\n",
    "variable which is a number written out as a string, then I'll use\n",
    "int(VARIABLE) to write the 'integerified' version to a new variable."
   ]
  },
  {
   "cell_type": "code",
   "execution_count": 19,
   "metadata": {},
   "outputs": [],
   "source": [
    "my_string_variable = \"30\"\n",
    "my_integerified_variable = int(my_string_variable)"
   ]
  },
  {
   "cell_type": "markdown",
   "metadata": {},
   "source": [
    "To 'floatify' an integer, we can use float(VARIABLE). Below, declare an\n",
    "integer variable, then use float(VARIABLE) to write the 'floatified'\n",
    "version to a new variable: "
   ]
  },
  {
   "cell_type": "code",
   "execution_count": 8,
   "metadata": {},
   "outputs": [
    {
     "name": "stdout",
     "output_type": "stream",
     "text": [
      "10.0\n"
     ]
    }
   ],
   "source": [
    "# Answer to Question 1.2.4\n",
    "my_integer_variable2 = 10\n",
    "my_floatified_variable2 = float(my_integer_variable2)\n",
    "\n",
    "print(my_floatified_variable2)"
   ]
  },
  {
   "cell_type": "markdown",
   "metadata": {},
   "source": [
    "**Question 1.2.5**: Division in Python has two ways of usage. What is the output of `5/2`?  What is the output of `5//2`? What is the fundamental data type for each of the two operations? Explain your results."
   ]
  },
  {
   "cell_type": "code",
   "execution_count": 30,
   "metadata": {},
   "outputs": [
    {
     "name": "stdout",
     "output_type": "stream",
     "text": [
      "2.5\n",
      "<class 'float'>\n",
      "2\n",
      "<class 'int'>\n"
     ]
    }
   ],
   "source": [
    "# Answer to Question 1.2.5\n",
    "print(5/2)\n",
    "print(type(5/2))\n",
    "print(5//2)\n",
    "print(type(5//2))\n",
    "\n",
    "#/ a normal divider - a float number can be the result. \n",
    "#// is floor division - only produces whole numbers and always rounds them down. "
   ]
  },
  {
   "cell_type": "markdown",
   "metadata": {},
   "source": [
    "**Question 1.2.6**: What is the output of `5%2` and `5**2`? Explain your answers."
   ]
  },
  {
   "cell_type": "code",
   "execution_count": 9,
   "metadata": {},
   "outputs": [
    {
     "name": "stdout",
     "output_type": "stream",
     "text": [
      "1\n",
      "<class 'int'>\n",
      "25\n",
      "<class 'int'>\n",
      "100\n"
     ]
    }
   ],
   "source": [
    "# Answer to Question 1.2.6\n",
    "print(5%2)\n",
    "print(type(5%2))\n",
    "#how many 5 does it need to add togeather to make a 2. Only 1 since 5 is already more than 2. \n",
    "\n",
    "print(5**2)\n",
    "print(type(5**2))\n",
    "#5*5 - 5 in the value of 2. \n",
    "\n",
    "print(10**2)"
   ]
  },
  {
   "cell_type": "markdown",
   "metadata": {},
   "source": [
    "**Question 1.2.7**: Use expressions <, >, ==, != to compare 4 to 6 (e.g. run 4<6). What are the input data types? What are the output data types?"
   ]
  },
  {
   "cell_type": "code",
   "execution_count": 10,
   "metadata": {},
   "outputs": [
    {
     "name": "stdout",
     "output_type": "stream",
     "text": [
      "True\n",
      "False\n",
      "False\n",
      "True\n"
     ]
    }
   ],
   "source": [
    "# Answer to Question 1.2.7\n",
    "print(4<6)\n",
    "print(4>6)\n",
    "print(4==6)\n",
    "print(4!=6)\n",
    "\n",
    "#output of comparison values are always of the Boolean data type.\n",
    "#== false as 4 is not the same as 6. != true because 4 is not the same as 6."
   ]
  },
  {
   "cell_type": "markdown",
   "metadata": {},
   "source": [
    "## 1.3 String Operations"
   ]
  },
  {
   "cell_type": "markdown",
   "metadata": {},
   "source": [
    "Strings have multiple operations and functions associated. In this exercise we investigate a few of these. \n",
    "\n",
    "**Question 1.3.1**: Create variables s1='Chameleon' and s2='ham'. Check whether the string s2 is a substring of s1. \n",
    "\n",
    "*Hint: One string operation is to check whether a string S contains a substring T, this can be done with the in \n",
    "operator: S in T.*"
   ]
  },
  {
   "cell_type": "code",
   "execution_count": 42,
   "metadata": {},
   "outputs": [
    {
     "data": {
      "text/plain": [
       "True"
      ]
     },
     "execution_count": 42,
     "metadata": {},
     "output_type": "execute_result"
    }
   ],
   "source": [
    "# Answer to Question 1.3.1 \n",
    "s1 = 'Chameleon'\n",
    "s2 = 'ham'\n",
    "\n",
    "s2 in s1\n",
    "#Gives true and tells us that 'ham' can be found in 'Chameleon'"
   ]
  },
  {
   "cell_type": "markdown",
   "metadata": {},
   "source": [
    "**Question 1.3.2**: Make a variable s3 that is the same as s1 but all upper case, then check again whether s2 is a substring of of s3. Explain your answer. \n",
    "\n",
    "*Hint: Remember that strings have methods like upper(), lower(), and capitalize()* "
   ]
  },
  {
   "cell_type": "code",
   "execution_count": 48,
   "metadata": {},
   "outputs": [
    {
     "data": {
      "text/plain": [
       "False"
      ]
     },
     "execution_count": 48,
     "metadata": {},
     "output_type": "execute_result"
    }
   ],
   "source": [
    "# Answer to Question 1.3.2\n",
    "s3 = s1.upper()\n",
    "\n",
    "s2 in s3\n",
    "\n",
    "#s1.upper() tells Python that s3 should be variable s1 but all in upper chases."
   ]
  },
  {
   "cell_type": "markdown",
   "metadata": {},
   "source": [
    "## 1.4 Control logic (if statements)\n",
    "\n",
    "**Question 1.4.1**: Imagine that we have a car that can fit 5 passengers, and we want to know, if the car can fit more passengers. Using 'if' and 'else', make a piece of code that prints out \"The car is full\" if passengers (taken as input) is 5 or more, and \"The car is not full yet\" if passengers are less than 5.\n",
    "\n",
    "Note: Multiple conditions can be inserted with elif statement(s):"
   ]
  },
  {
   "cell_type": "code",
   "execution_count": null,
   "metadata": {},
   "outputs": [],
   "source": [
    "#Read how many passengers are in the car\n",
    "passengers = int(input (\"How many passengers are in the car? \"))\n",
    "\n",
    "#Answer to Question 1.4.1\n",
    "if passengers >=5\n",
    "    print(\"The car is full\")\n",
    "else: \n",
    "    print(\"The car is not full yet\")"
   ]
  },
  {
   "cell_type": "markdown",
   "metadata": {},
   "source": [
    "**Question 1.4.2**: Create a program which produces statements about numbers that you give it, with the following conditions:\n",
    "- if the number is over 100 print \"Phew, that's a big number.\"\n",
    "- if the number is even, print \"This one is even.\"\n",
    "- if the number is even and over 100 print \"Stop. I can't even.\"\n",
    "- if the number doesn't satisfy any of these conditions, print the number."
   ]
  },
  {
   "cell_type": "code",
   "execution_count": 24,
   "metadata": {},
   "outputs": [
    {
     "name": "stdout",
     "output_type": "stream",
     "text": [
      "Phew, that's a big number.\n",
      "135\n"
     ]
    }
   ],
   "source": [
    "#Answer to Question 1.4.2\n",
    "\n",
    "my_num = 135\n",
    "\n",
    "if my_num > 100 and my_num %2 == 0:\n",
    "    print(\"Stop. I can't even.\")\n",
    "elif my_num > 100:\n",
    "    print(\"Phew, that's a big number.\")\n",
    "elif my_num%2==0:\n",
    "    print(\"This one is even.\")\n",
    "else:\n",
    "    print(my_num)"
   ]
  },
  {
   "cell_type": "markdown",
   "metadata": {},
   "source": [
    "**Question 1.4.3**: Choose an everyday activity (like making tea). Write a script workflow for that activity."
   ]
  },
  {
   "cell_type": "markdown",
   "metadata": {},
   "source": [
    "*Answer to Question 1.4.3. here. \n",
    "Note that this cell is in Markdown mode rather than Code mode, so you can write your answer as text.* \n",
    "\n",
    "1. Am I hungry?\n",
    "    a. if yes proceed to step 2.\n",
    "    b. if no proceed to step x\n",
    "2. Do I have a hardboiled egg?\n",
    "    a. if no proceed to step 3.\n",
    "    b. if yes proceed to step x.\n",
    "3. Put egg in pot with water on stove.\n",
    "4. Turn the stove on max heat.\n",
    "5. Boil egg for 6.5 minutes.\n",
    "6. Take pot of stove and put in sink.\n",
    "7. Turn on cold water and rinse egg.\n",
    "8. Is egg cool enough to handle?\n",
    "    a. if no proceed to step 9.\n",
    "    b. if yes proceed to step 10.\n",
    "9. Rinse egg in cold water for 1. minute.\n",
    "10. Crack eggshell and remove.\n",
    "11. Put egg in eggcup.\n",
    "12. Place egg on table with teaspoon.\n",
    "13. Add salt on egg.\n",
    "14. Eat egg.\n",
    "15. Wait 2 hours then return to step 1."
   ]
  },
  {
   "cell_type": "markdown",
   "metadata": {},
   "source": [
    "## 1.5 Reflection\n",
    "**Question 1.5.1**: Write a brief paragraph reflecting on your experience learning basic programming operations and logic structures. What did you struggle with? What did you enjoy? What surprised you?\n",
    "    *Note: We will ask you in the assignments to submit a summary of your reflections*"
   ]
  },
  {
   "cell_type": "markdown",
   "metadata": {},
   "source": [
    "*Answer to Question 1.5.1*\n",
    "Quite demanding as I am thinking in a completely different way than I am used to but that is precicely what I did enjoy as I am not used to thinking like this. "
   ]
  }
 ],
 "metadata": {
  "kernelspec": {
   "display_name": "Python 3",
   "language": "python",
   "name": "python3"
  },
  "language_info": {
   "codemirror_mode": {
    "name": "ipython",
    "version": 3
   },
   "file_extension": ".py",
   "mimetype": "text/x-python",
   "name": "python",
   "nbconvert_exporter": "python",
   "pygments_lexer": "ipython3",
   "version": "3.7.4"
  }
 },
 "nbformat": 4,
 "nbformat_minor": 2
}
